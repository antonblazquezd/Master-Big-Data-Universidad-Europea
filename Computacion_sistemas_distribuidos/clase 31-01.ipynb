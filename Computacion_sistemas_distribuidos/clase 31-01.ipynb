{
 "cells": [
  {
   "cell_type": "code",
   "execution_count": 1,
   "id": "b334cf9a-1fc1-4e94-9cf5-a62762788fd9",
   "metadata": {},
   "outputs": [],
   "source": [
    "#El anterior día definimos variables de entorno. Ahora:\n",
    "\n",
    "import os #Nos permite interactuar con el OS. \n",
    "os.environ[\"SPARK_HOME\"]=\"/home/software/spark-3.1.2-bin-hadoop3.2/\"\n",
    "os.environ[\"HADOOP_CONF_DIR\"]=\"/usr/local/hadoop/etc/hadoop\" #Esto es para utilizar los ficheros de hadoop\n",
    "os.environ[\"PYSPARK_PYTHON\"]=\"python3.9\" #Cualquier cosa que ejecutemos en python se va a ejecutar con esa versión\n",
    "os.environ[\"PYSPARK_DRIVER_PYTHON\"]=\"python3.9\" #El driver es un orquestrador que tiene n nodos en el clúster. en un momento dado podríamos tener diferentes versiones entre el nodo y los drivers. Aquí estamos marcando la versión del lenguaje para todos. \n"
   ]
  },
  {
   "cell_type": "code",
   "execution_count": 2,
   "id": "3bbb1096-674e-4742-962d-681100b44bbe",
   "metadata": {},
   "outputs": [],
   "source": [
    "#pip install findspark"
   ]
  },
  {
   "cell_type": "code",
   "execution_count": 3,
   "id": "e24ee527-dac6-4cdc-8649-699f4a743daf",
   "metadata": {},
   "outputs": [],
   "source": [
    "import findspark # Nos aseegura que la ruta que está definida  spark, para acceder y comunicarnos con ella. "
   ]
  },
  {
   "cell_type": "code",
   "execution_count": 4,
   "id": "105a9b86-77d5-4520-bb27-cb7be4f67dfe",
   "metadata": {},
   "outputs": [],
   "source": [
    "findspark.init() #define las variables de entorno"
   ]
  },
  {
   "cell_type": "code",
   "execution_count": 5,
   "id": "b4a4a35b-41a3-4c40-b07e-c3e55719b25e",
   "metadata": {},
   "outputs": [],
   "source": [
    "#pip install pyspark"
   ]
  },
  {
   "cell_type": "code",
   "execution_count": 6,
   "id": "171f1e4b-4c81-4c31-be29-7f1cbe6f9714",
   "metadata": {},
   "outputs": [],
   "source": [
    "from pyspark.sql import SparkSession #iniciar sesión\n",
    "from pyspark import SparkContext, SparkConf #permite ajustar los parámetros en la configuración, cada vez que iniciemos sesión y ejecutemos trabajos. "
   ]
  },
  {
   "cell_type": "code",
   "execution_count": 8,
   "id": "d568a102-7208-4e1e-903d-b807a9759ede",
   "metadata": {},
   "outputs": [],
   "source": [
    "conf = SparkConf().setAll([\n",
    "    ('spark.app.name','Sistemas Distribuidos'), #este es el nombre de la aplicación\n",
    "    ('spark.executor.memory','1g'),  #cada uno de los nodos del driver van a tener 1G de memoria.  \n",
    "    ('spark.executor.cores','8'),  #cores por cada uno de los nodos ejecutores. \n",
    "    ('spark.ui.port','4050'),  #puerto que me permite ver los jobs que se están ejecutando y otras operaciones dentro Spark. \n",
    "    ('spark.driver.memory','1g')]) #memoria asociada al driver. \n",
    "\n",
    "spark = SparkSession.builder.config(conf=conf).master('yarn').getOrCreate()  #crea una sesión con la configuración definida arriba en un clúster yarn y si tengo una sesión corriendo, únete, y si no crea una sesión. \n",
    "sc =spark.sparkContext #defino una variable para invocar el contexto. Es diferente a configuración. \n",
    "sc.setLogLevel('ERROR') #Esta declaración es para reducir el número de mensajes de errores \n",
    "    "
   ]
  },
  {
   "cell_type": "markdown",
   "id": "0b0d7aec-b326-4e6f-9f5f-4d91fa09c1c9",
   "metadata": {},
   "source": [
    "Importante, primero instalar findspark y pyspark y luego correr el resto de código. "
   ]
  },
  {
   "cell_type": "markdown",
   "id": "8452d5a6-d19e-4f11-86dd-fb409d9bfa6a",
   "metadata": {},
   "source": [
    "green2020=spark.read.csv('hdfs://tucan:9000/NYCOpenData/2020/2020_Green_Taxi_Trip_Data.csv',header=True,inferSchema=True) # Accedemos al clúster HDFS y obtenemos el fichero Green Taxi Tripo Data"
   ]
  },
  {
   "cell_type": "code",
   "execution_count": 13,
   "id": "b40b9201-7144-49c4-8ac2-46c15d5866f3",
   "metadata": {},
   "outputs": [
    {
     "name": "stderr",
     "output_type": "stream",
     "text": [
      "                                                                                \r"
     ]
    },
    {
     "data": {
      "text/plain": [
       "1734051"
      ]
     },
     "execution_count": 13,
     "metadata": {},
     "output_type": "execute_result"
    }
   ],
   "source": [
    "green2020.count()"
   ]
  },
  {
   "cell_type": "code",
   "execution_count": 15,
   "id": "dc51a79a-555d-4607-8c66-271e0ef7e81c",
   "metadata": {},
   "outputs": [
    {
     "name": "stdout",
     "output_type": "stream",
     "text": [
      "root\n",
      " |-- VendorID: integer (nullable = true)\n",
      " |-- lpep_pickup_datetime: string (nullable = true)\n",
      " |-- lpep_dropoff_datetime: string (nullable = true)\n",
      " |-- store_and_fwd_flag: string (nullable = true)\n",
      " |-- RatecodeID: integer (nullable = true)\n",
      " |-- PULocationID: integer (nullable = true)\n",
      " |-- DOLocationID: integer (nullable = true)\n",
      " |-- passenger_count: integer (nullable = true)\n",
      " |-- trip_distance: double (nullable = true)\n",
      " |-- fare_amount: double (nullable = true)\n",
      " |-- extra: double (nullable = true)\n",
      " |-- mta_tax: double (nullable = true)\n",
      " |-- tip_amount: double (nullable = true)\n",
      " |-- tolls_amount: double (nullable = true)\n",
      " |-- ehail_fee: string (nullable = true)\n",
      " |-- improvement_surcharge: double (nullable = true)\n",
      " |-- total_amount: double (nullable = true)\n",
      " |-- payment_type: integer (nullable = true)\n",
      " |-- trip_type: integer (nullable = true)\n",
      " |-- congestion_surcharge: double (nullable = true)\n",
      "\n"
     ]
    },
    {
     "data": {
      "text/plain": [
       "(None,)"
      ]
     },
     "execution_count": 15,
     "metadata": {},
     "output_type": "execute_result"
    }
   ],
   "source": [
    "green2020.printSchema(), # el nullable = true indica que ha dejado pasar datos nulos."
   ]
  },
  {
   "cell_type": "markdown",
   "id": "6e3bd9eb-9254-4ff8-8077-7cf79cc9bb29",
   "metadata": {},
   "source": [
    "Cuando le indicamos en el método .csv() inferSchema=True, le ordenamos a Spark que identifique el tipo de dato y lo ha hecho bien. "
   ]
  },
  {
   "cell_type": "code",
   "execution_count": 19,
   "id": "61b291b4-f322-4a0c-8a2d-cc26f584c765",
   "metadata": {},
   "outputs": [
    {
     "name": "stdout",
     "output_type": "stream",
     "text": [
      "+--------+----------------------+----------------------+------------------+----------+------------+------------+---------------+-------------+-----------+-----+-------+----------+------------+---------+---------------------+------------+------------+---------+--------------------+\n",
      "|VendorID|lpep_pickup_datetime  |lpep_dropoff_datetime |store_and_fwd_flag|RatecodeID|PULocationID|DOLocationID|passenger_count|trip_distance|fare_amount|extra|mta_tax|tip_amount|tolls_amount|ehail_fee|improvement_surcharge|total_amount|payment_type|trip_type|congestion_surcharge|\n",
      "+--------+----------------------+----------------------+------------------+----------+------------+------------+---------------+-------------+-----------+-----+-------+----------+------------+---------+---------------------+------------+------------+---------+--------------------+\n",
      "|2       |12/18/2019 03:52:30 PM|12/18/2019 03:54:39 PM|N                 |1         |264         |264         |5              |0.0          |3.5        |0.5  |0.5    |0.01      |0.0         |null     |0.3                  |4.81        |1           |1        |0.0                 |\n",
      "|2       |01/01/2020 12:45:58 AM|01/01/2020 12:56:39 AM|N                 |5         |66          |65          |2              |1.28         |20.0       |0.0  |0.0    |4.06      |0.0         |null     |0.3                  |24.36       |1           |2        |0.0                 |\n",
      "|2       |01/01/2020 12:41:38 AM|01/01/2020 12:52:49 AM|N                 |1         |181         |228         |1              |2.47         |10.5       |0.5  |0.5    |3.54      |0.0         |null     |0.3                  |15.34       |1           |1        |0.0                 |\n",
      "|1       |01/01/2020 12:52:46 AM|01/01/2020 01:14:21 AM|N                 |1         |129         |263         |2              |6.3          |21.0       |3.25 |0.5    |0.0       |0.0         |null     |0.3                  |25.05       |2           |1        |2.75                |\n",
      "|1       |01/01/2020 12:19:57 AM|01/01/2020 12:30:56 AM|N                 |1         |210         |150         |1              |2.3          |10.0       |0.5  |0.5    |0.0       |0.0         |null     |0.3                  |11.3        |1           |1        |0.0                 |\n",
      "|1       |01/01/2020 12:52:33 AM|01/01/2020 01:09:54 AM|N                 |1         |35          |39          |1              |3.0          |13.5       |0.5  |0.5    |0.0       |0.0         |null     |0.3                  |14.8        |1           |1        |0.0                 |\n",
      "|2       |01/01/2020 12:10:18 AM|01/01/2020 12:22:16 AM|N                 |1         |25          |61          |1              |2.77         |11.0       |0.5  |0.5    |0.0       |0.0         |null     |0.3                  |12.3        |2           |1        |0.0                 |\n",
      "|2       |01/01/2020 01:03:14 AM|01/01/2020 01:29:45 AM|N                 |1         |225         |89          |1              |4.98         |20.5       |0.5  |0.5    |0.0       |0.0         |null     |0.3                  |21.8        |2           |1        |0.0                 |\n",
      "|2       |01/01/2020 12:04:11 AM|01/01/2020 12:09:48 AM|N                 |1         |129         |129         |1              |0.71         |5.5        |0.5  |0.5    |0.0       |0.0         |null     |0.3                  |6.8         |2           |1        |0.0                 |\n",
      "|2       |01/01/2020 12:25:52 AM|01/01/2020 12:32:16 AM|N                 |1         |129         |83          |1              |0.8          |5.5        |0.5  |0.5    |0.0       |0.0         |null     |0.3                  |6.8         |2           |1        |0.0                 |\n",
      "+--------+----------------------+----------------------+------------------+----------+------------+------------+---------------+-------------+-----------+-----+-------+----------+------------+---------+---------------------+------------+------------+---------+--------------------+\n",
      "only showing top 10 rows\n",
      "\n"
     ]
    }
   ],
   "source": [
    "green2020.show(10,False) #muestra las columnas. el primer parámetro indica el número de filas y el segundo parámetro cuántos caracteres quiero que aparezcan. Si quiero que no me resuma los caracteres, escribo False. "
   ]
  },
  {
   "cell_type": "code",
   "execution_count": 24,
   "id": "8cef043b-0ea2-4400-bfa2-b347a9de0deb",
   "metadata": {},
   "outputs": [
    {
     "name": "stderr",
     "output_type": "stream",
     "text": [
      "                                                                                \r"
     ]
    },
    {
     "data": {
      "text/plain": [
       "3198"
      ]
     },
     "execution_count": 24,
     "metadata": {},
     "output_type": "execute_result"
    }
   ],
   "source": [
    "green2020.filter(green2020.passenger_count<1).count() #Estos datos no parecen ser relevantes. Por qué tenemos cuentas sin pasajeros?"
   ]
  },
  {
   "cell_type": "code",
   "execution_count": 21,
   "id": "ea6972e8-3614-427e-a90c-a139a6fdfaf1",
   "metadata": {},
   "outputs": [
    {
     "name": "stdout",
     "output_type": "stream",
     "text": [
      "+--------+----------------------+----------------------+------------------+----------+------------+------------+---------------+-------------+-----------+-----+-------+----------+------------+---------+---------------------+------------+------------+---------+--------------------+\n",
      "|VendorID|lpep_pickup_datetime  |lpep_dropoff_datetime |store_and_fwd_flag|RatecodeID|PULocationID|DOLocationID|passenger_count|trip_distance|fare_amount|extra|mta_tax|tip_amount|tolls_amount|ehail_fee|improvement_surcharge|total_amount|payment_type|trip_type|congestion_surcharge|\n",
      "+--------+----------------------+----------------------+------------------+----------+------------+------------+---------------+-------------+-----------+-----+-------+----------+------------+---------+---------------------+------------+------------+---------+--------------------+\n",
      "|2       |12/18/2019 03:52:30 PM|12/18/2019 03:54:39 PM|N                 |1         |264         |264         |5              |0.0          |3.5        |0.5  |0.5    |0.01      |0.0         |null     |0.3                  |4.81        |1           |1        |0.0                 |\n",
      "|2       |01/01/2020 12:45:58 AM|01/01/2020 12:56:39 AM|N                 |5         |66          |65          |2              |1.28         |20.0       |0.0  |0.0    |4.06      |0.0         |null     |0.3                  |24.36       |1           |2        |0.0                 |\n",
      "|2       |01/01/2020 12:41:38 AM|01/01/2020 12:52:49 AM|N                 |1         |181         |228         |1              |2.47         |10.5       |0.5  |0.5    |3.54      |0.0         |null     |0.3                  |15.34       |1           |1        |0.0                 |\n",
      "|1       |01/01/2020 12:52:46 AM|01/01/2020 01:14:21 AM|N                 |1         |129         |263         |2              |6.3          |21.0       |3.25 |0.5    |0.0       |0.0         |null     |0.3                  |25.05       |2           |1        |2.75                |\n",
      "|1       |01/01/2020 12:19:57 AM|01/01/2020 12:30:56 AM|N                 |1         |210         |150         |1              |2.3          |10.0       |0.5  |0.5    |0.0       |0.0         |null     |0.3                  |11.3        |1           |1        |0.0                 |\n",
      "|1       |01/01/2020 12:52:33 AM|01/01/2020 01:09:54 AM|N                 |1         |35          |39          |1              |3.0          |13.5       |0.5  |0.5    |0.0       |0.0         |null     |0.3                  |14.8        |1           |1        |0.0                 |\n",
      "|2       |01/01/2020 12:10:18 AM|01/01/2020 12:22:16 AM|N                 |1         |25          |61          |1              |2.77         |11.0       |0.5  |0.5    |0.0       |0.0         |null     |0.3                  |12.3        |2           |1        |0.0                 |\n",
      "|2       |01/01/2020 01:03:14 AM|01/01/2020 01:29:45 AM|N                 |1         |225         |89          |1              |4.98         |20.5       |0.5  |0.5    |0.0       |0.0         |null     |0.3                  |21.8        |2           |1        |0.0                 |\n",
      "|2       |01/01/2020 12:04:11 AM|01/01/2020 12:09:48 AM|N                 |1         |129         |129         |1              |0.71         |5.5        |0.5  |0.5    |0.0       |0.0         |null     |0.3                  |6.8         |2           |1        |0.0                 |\n",
      "|2       |01/01/2020 12:25:52 AM|01/01/2020 12:32:16 AM|N                 |1         |129         |83          |1              |0.8          |5.5        |0.5  |0.5    |0.0       |0.0         |null     |0.3                  |6.8         |2           |1        |0.0                 |\n",
      "+--------+----------------------+----------------------+------------------+----------+------------+------------+---------------+-------------+-----------+-----+-------+----------+------------+---------+---------------------+------------+------------+---------+--------------------+\n",
      "only showing top 10 rows\n",
      "\n"
     ]
    }
   ],
   "source": [
    "green2020.filter(green2020.fare_amount>1).show(10,False)"
   ]
  },
  {
   "cell_type": "code",
   "execution_count": 26,
   "id": "6488abde-6792-4ffa-8c00-41f87c1819cd",
   "metadata": {},
   "outputs": [
    {
     "name": "stdout",
     "output_type": "stream",
     "text": [
      "+--------+----------------------+----------------------+------------------+----------+------------+------------+---------------+-------------+-----------+-----+-------+----------+------------+---------+---------------------+------------+------------+---------+--------------------+\n",
      "|VendorID|lpep_pickup_datetime  |lpep_dropoff_datetime |store_and_fwd_flag|RatecodeID|PULocationID|DOLocationID|passenger_count|trip_distance|fare_amount|extra|mta_tax|tip_amount|tolls_amount|ehail_fee|improvement_surcharge|total_amount|payment_type|trip_type|congestion_surcharge|\n",
      "+--------+----------------------+----------------------+------------------+----------+------------+------------+---------------+-------------+-----------+-----+-------+----------+------------+---------+---------------------+------------+------------+---------+--------------------+\n",
      "|2       |12/18/2019 03:52:30 PM|12/18/2019 03:54:39 PM|N                 |1         |264         |264         |5              |0.0          |3.5        |0.5  |0.5    |0.01      |0.0         |null     |0.3                  |4.81        |1           |1        |0.0                 |\n",
      "|1       |01/01/2020 12:23:42 AM|01/01/2020 12:48:02 AM|N                 |1         |92          |51          |1              |0.0          |26.2       |0.0  |0.5    |0.0       |6.12        |null     |0.3                  |33.12       |1           |1        |0.0                 |\n",
      "|2       |01/01/2020 12:52:51 AM|01/01/2020 12:54:17 AM|N                 |5         |36          |36          |1              |0.0          |50.0       |0.0  |0.0    |20.0      |0.0         |null     |0.3                  |70.3        |1           |2        |0.0                 |\n",
      "|1       |01/01/2020 12:43:43 AM|01/01/2020 01:14:39 AM|N                 |1         |37          |150         |1              |0.0          |28.2       |0.0  |0.5    |0.0       |0.0         |null     |0.3                  |29.0        |1           |1        |0.0                 |\n",
      "|2       |01/01/2020 12:19:22 AM|01/01/2020 12:19:25 AM|N                 |5         |192         |264         |1              |0.0          |12.0       |0.0  |0.0    |0.0       |0.0         |null     |0.3                  |12.3        |1           |2        |0.0                 |\n",
      "|2       |01/01/2020 12:45:05 AM|01/01/2020 12:45:09 AM|N                 |5         |244         |244         |1              |0.0          |7.0        |0.0  |0.0    |0.0       |0.0         |null     |0.3                  |7.3         |1           |2        |0.0                 |\n",
      "|1       |01/01/2020 12:34:45 AM|01/01/2020 12:58:14 AM|N                 |1         |130         |264         |1              |0.0          |28.2       |0.0  |0.5    |0.0       |0.0         |null     |0.3                  |29.0        |1           |1        |0.0                 |\n",
      "|1       |01/01/2020 12:46:42 AM|01/01/2020 01:06:21 AM|N                 |1         |153         |74          |1              |0.0          |24.2       |0.0  |0.5    |0.0       |0.0         |null     |0.3                  |25.0        |1           |1        |0.0                 |\n",
      "|2       |01/01/2020 12:03:49 AM|01/01/2020 12:05:50 AM|N                 |1         |41          |41          |1              |0.0          |3.5        |0.5  |0.5    |0.0       |0.0         |null     |0.3                  |4.8         |2           |1        |0.0                 |\n",
      "|1       |01/01/2020 12:01:32 AM|01/01/2020 12:34:44 AM|N                 |1         |49          |168         |1              |0.0          |32.2       |0.0  |0.5    |0.0       |6.12        |null     |0.3                  |39.12       |1           |1        |0.0                 |\n",
      "+--------+----------------------+----------------------+------------------+----------+------------+------------+---------------+-------------+-----------+-----+-------+----------+------------+---------+---------------------+------------+------------+---------+--------------------+\n",
      "only showing top 10 rows\n",
      "\n"
     ]
    }
   ],
   "source": [
    "green2020.filter(green2020.trip_distance==0.0).show(10,False) #este es otro ejemplo de datos atípicos que habría entender por qué están ahí y decidir si los debemos eliminar"
   ]
  },
  {
   "cell_type": "code",
   "execution_count": 36,
   "id": "6c16ce90-6dfb-497a-bc8d-642b7a858102",
   "metadata": {},
   "outputs": [],
   "source": [
    "from pyspark.sql.functions import col, round # A diferencia de Pandas, en Spark debemos importar columnas y decirle todo el rato a Spark que una columa, es una columna\n",
    "green2020 = green2020.withColumn('Tip_percentage',\n",
    "                              round(100.0*(col('Tip_amount')/(col('Total_amount')-col('Tip_amount'))),3)) #el método withColumn permite añadir columna"
   ]
  },
  {
   "cell_type": "code",
   "execution_count": null,
   "id": "b6fa0a71-7305-4fdd-b03a-291ec9940066",
   "metadata": {},
   "outputs": [],
   "source": []
  },
  {
   "cell_type": "code",
   "execution_count": 37,
   "id": "314cf48f-2132-4d97-be6d-b37724fc6bf3",
   "metadata": {},
   "outputs": [
    {
     "name": "stdout",
     "output_type": "stream",
     "text": [
      "+--------+----------------------+----------------------+------------------+----------+------------+------------+---------------+-------------+-----------+-----+-------+----------+------------+---------+---------------------+------------+------------+---------+--------------------+--------------+\n",
      "|VendorID|lpep_pickup_datetime  |lpep_dropoff_datetime |store_and_fwd_flag|RatecodeID|PULocationID|DOLocationID|passenger_count|trip_distance|fare_amount|extra|mta_tax|tip_amount|tolls_amount|ehail_fee|improvement_surcharge|total_amount|payment_type|trip_type|congestion_surcharge|Tip_percentage|\n",
      "+--------+----------------------+----------------------+------------------+----------+------------+------------+---------------+-------------+-----------+-----+-------+----------+------------+---------+---------------------+------------+------------+---------+--------------------+--------------+\n",
      "|2       |12/18/2019 03:52:30 PM|12/18/2019 03:54:39 PM|N                 |1         |264         |264         |5              |0.0          |3.5        |0.5  |0.5    |0.01      |0.0         |null     |0.3                  |4.81        |1           |1        |0.0                 |0.208         |\n",
      "|2       |01/01/2020 12:45:58 AM|01/01/2020 12:56:39 AM|N                 |5         |66          |65          |2              |1.28         |20.0       |0.0  |0.0    |4.06      |0.0         |null     |0.3                  |24.36       |1           |2        |0.0                 |20.0          |\n",
      "|2       |01/01/2020 12:41:38 AM|01/01/2020 12:52:49 AM|N                 |1         |181         |228         |1              |2.47         |10.5       |0.5  |0.5    |3.54      |0.0         |null     |0.3                  |15.34       |1           |1        |0.0                 |30.0          |\n",
      "|1       |01/01/2020 12:52:46 AM|01/01/2020 01:14:21 AM|N                 |1         |129         |263         |2              |6.3          |21.0       |3.25 |0.5    |0.0       |0.0         |null     |0.3                  |25.05       |2           |1        |2.75                |0.0           |\n",
      "|1       |01/01/2020 12:19:57 AM|01/01/2020 12:30:56 AM|N                 |1         |210         |150         |1              |2.3          |10.0       |0.5  |0.5    |0.0       |0.0         |null     |0.3                  |11.3        |1           |1        |0.0                 |0.0           |\n",
      "+--------+----------------------+----------------------+------------------+----------+------------+------------+---------------+-------------+-----------+-----+-------+----------+------------+---------+---------------------+------------+------------+---------+--------------------+--------------+\n",
      "only showing top 5 rows\n",
      "\n"
     ]
    }
   ],
   "source": [
    "green2020.show(5,False)"
   ]
  },
  {
   "cell_type": "markdown",
   "id": "a46e3088-6d42-4f92-9e4d-861602f0fb32",
   "metadata": {},
   "source": [
    "En Spark puedo modificar variables, como lo que pasó cuando agregué una columna de \"Tip Percentage\". No obstante en Scala, los data Frames son inmutables. "
   ]
  },
  {
   "cell_type": "markdown",
   "id": "d100c8ca-7a05-4a7d-aa34-e13ddbdc0975",
   "metadata": {},
   "source": [
    "Pandas no es capaz de correr en más de 23 nodos, por eso se hace necesario Spark y Scala. "
   ]
  },
  {
   "cell_type": "code",
   "execution_count": null,
   "id": "48d34f4d-e6b2-4cc9-9aec-1ccd7e6624a8",
   "metadata": {},
   "outputs": [],
   "source": []
  }
 ],
 "metadata": {
  "kernelspec": {
   "display_name": "Python 3 (ipykernel)",
   "language": "python",
   "name": "python3"
  },
  "language_info": {
   "codemirror_mode": {
    "name": "ipython",
    "version": 3
   },
   "file_extension": ".py",
   "mimetype": "text/x-python",
   "name": "python",
   "nbconvert_exporter": "python",
   "pygments_lexer": "ipython3",
   "version": "3.9.7"
  }
 },
 "nbformat": 4,
 "nbformat_minor": 5
}
